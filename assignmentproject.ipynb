{
 "cells": [
  {
   "cell_type": "markdown",
   "id": "0853fd94",
   "metadata": {},
   "source": [
    "# assignment 1."
   ]
  },
  {
   "cell_type": "code",
   "execution_count": 106,
   "id": "e7326bff",
   "metadata": {},
   "outputs": [
    {
     "name": "stdout",
     "output_type": "stream",
     "text": [
      "50 random numbers between 3 and 6: \n",
      "[5, 5, 5, 3, 3, 3, 3, 5, 4, 3, 4, 4, 3, 3, 5, 4, 5, 4, 3, 4, 4, 5, 3, 3, 3, 4, 3, 3, 4, 4, 3, 4, 3, 3, 5, 5, 5, 5, 3, 4, 4, 3, 4, 3, 3, 3, 3, 5, 5, 3]\n"
     ]
    }
   ],
   "source": [
    "import random\n",
    "print(\"50 random numbers between 3 and 6: \")\n",
    "randoms=[]\n",
    "for i in range (50):\n",
    "    y = random.randrange(3,6)\n",
    "    randoms.append(y)\n",
    "print(randoms)"
   ]
  },
  {
   "cell_type": "markdown",
   "id": "71028c47",
   "metadata": {},
   "source": [
    "#### question 2"
   ]
  },
  {
   "cell_type": "code",
   "execution_count": 94,
   "id": "099f2077",
   "metadata": {},
   "outputs": [
    {
     "name": "stdout",
     "output_type": "stream",
     "text": [
      "x =  49\n",
      "y =  4\n",
      "x power y =  5764801\n"
     ]
    }
   ],
   "source": [
    "import random\n",
    "\n",
    "x= random.randrange(1,50)\n",
    "y= random.randrange(2,5)\n",
    "print (\"x = \" , x)\n",
    "print (\"y = \", y)\n",
    "print (\"x power y = \", x**y)\n"
   ]
  },
  {
   "cell_type": "markdown",
   "id": "1d0e5990",
   "metadata": {},
   "source": [
    "#### question 3"
   ]
  },
  {
   "cell_type": "code",
   "execution_count": 109,
   "id": "0ea5c046",
   "metadata": {},
   "outputs": [
    {
     "name": "stdout",
     "output_type": "stream",
     "text": [
      "x = 9\n",
      "['oma', 'oma', 'oma', 'oma', 'oma', 'oma', 'oma', 'oma', 'oma']\n"
     ]
    }
   ],
   "source": [
    "import random\n",
    "x = random.randrange(1,10)\n",
    "print(\"x =\", x)\n",
    "z = []\n",
    "for i in range(0,x):\n",
    "    name= (\"oma\")\n",
    "    z.append(name)\n",
    "print(z)\n"
   ]
  },
  {
   "cell_type": "markdown",
   "id": "ba60e4f6",
   "metadata": {},
   "source": [
    "#### question 4:"
   ]
  },
  {
   "cell_type": "code",
   "execution_count": 113,
   "id": "13f70131",
   "metadata": {},
   "outputs": [
    {
     "name": "stdout",
     "output_type": "stream",
     "text": [
      "[6.0]\n"
     ]
    }
   ],
   "source": [
    "import random\n",
    "x=random.randrange(1,10)\n",
    "y=float(x)\n",
    "z=round(y,2)\n",
    "answer = []\n",
    "answer.append(z)\n",
    "print(answer)"
   ]
  },
  {
   "cell_type": "markdown",
   "id": "11ba8243",
   "metadata": {},
   "source": [
    "#####  question 5"
   ]
  },
  {
   "cell_type": "markdown",
   "id": "f19c1386",
   "metadata": {},
   "source": [
    "####  question 6"
   ]
  },
  {
   "cell_type": "code",
   "execution_count": 116,
   "id": "b48b507c",
   "metadata": {},
   "outputs": [
    {
     "name": "stdout",
     "output_type": "stream",
     "text": [
      "enter a number: 3\n",
      "enter anothere number: 2\n",
      "0.2\n"
     ]
    }
   ],
   "source": [
    "x = int(input(\"enter a number: \"))\n",
    "y=  int(input(\"enter anothere number: \"))\n",
    "calculation = ((x-y) / (x+y))\n",
    "print (calculation)"
   ]
  },
  {
   "cell_type": "markdown",
   "id": "5054ea80",
   "metadata": {},
   "source": [
    "#### "
   ]
  },
  {
   "cell_type": "code",
   "execution_count": null,
   "id": "3c14969d",
   "metadata": {},
   "outputs": [],
   "source": []
  },
  {
   "cell_type": "markdown",
   "id": "4a057f2b",
   "metadata": {},
   "source": [
    "# assignment 2"
   ]
  },
  {
   "cell_type": "markdown",
   "id": "fa2808f0",
   "metadata": {},
   "source": [
    "#### 13"
   ]
  },
  {
   "cell_type": "code",
   "execution_count": 12,
   "id": "4adacc85",
   "metadata": {},
   "outputs": [
    {
     "name": "stdout",
     "output_type": "stream",
     "text": [
      "enter a number: 2\n",
      "sine =  0.9092974268256817\n",
      "cos =  -0.4161468365471424\n",
      "tan = -2.185039863261519\n"
     ]
    }
   ],
   "source": [
    "quest= int(input(\"enter a number: \"))\n",
    "import math\n",
    "sine= math.sin(quest)\n",
    "cosine= math.cos(quest)\n",
    "tangent = math.tan (quest)\n",
    "\n",
    "print(\"sine = \", (str(sine)))\n",
    "print (\"cos = \", (str(cosine)))\n",
    "print(\"tan =\", (str(tangent)))"
   ]
  },
  {
   "cell_type": "markdown",
   "id": "0824ef81",
   "metadata": {},
   "source": [
    "#### question 8"
   ]
  },
  {
   "cell_type": "code",
   "execution_count": null,
   "id": "a97fbf4a",
   "metadata": {},
   "outputs": [],
   "source": [
    "###### seconds to minute= seconds/60"
   ]
  },
  {
   "cell_type": "code",
   "execution_count": 2,
   "id": "638b65ec",
   "metadata": {
    "scrolled": true
   },
   "outputs": [
    {
     "name": "stdout",
     "output_type": "stream",
     "text": [
      "enter a number in seconds: 130\n",
      "converted to minute per second:  12.166666666666666\n"
     ]
    }
   ],
   "source": [
    "time = int(input(\"enter a number in seconds: \"))\n",
    "minute = time / 60\n",
    "seconds= time % 60\n",
    "both = minute + seconds\n",
    "minute_second = \"converted to minute per second: \"\n",
    "\n",
    "print( minute_second, both)"
   ]
  },
  {
   "cell_type": "markdown",
   "id": "c2c30f76",
   "metadata": {},
   "source": [
    "#### questi0n 9"
   ]
  },
  {
   "cell_type": "code",
   "execution_count": 27,
   "id": "49dee063",
   "metadata": {},
   "outputs": [
    {
     "name": "stdout",
     "output_type": "stream",
     "text": [
      "enter hour: 2\n",
      "how many hours ahead? 2\n",
      "NEW HOUR:  4 o'clock\n"
     ]
    }
   ],
   "source": [
    "hour= int(input(\"enter hour: \"))\n",
    "ahead = int(input(\"how many hours ahead? \")) \n",
    "new_hour = hour+ahead\n",
    "new = \"NEW HOUR: \"\n",
    "o_clock = \"o'clock\"\n",
    "\n",
    "if new_hour >12:\n",
    "        convert = new_hour-12\n",
    "        print(new, convert,o_clock)\n",
    "else:\n",
    "    print(new, new_hour,o_clock)\n",
    "    \n",
    "       "
   ]
  },
  {
   "cell_type": "markdown",
   "id": "f8608fc6",
   "metadata": {},
   "source": [
    "#### question 11"
   ]
  },
  {
   "cell_type": "code",
   "execution_count": null,
   "id": "37e8d6f1",
   "metadata": {},
   "outputs": [],
   "source": [
    "##### kg to pounds = kg/2.2"
   ]
  },
  {
   "cell_type": "code",
   "execution_count": 45,
   "id": "8714c31a",
   "metadata": {},
   "outputs": [
    {
     "name": "stdout",
     "output_type": "stream",
     "text": [
      "enter weight in kilograms: 5\n",
      "5 kg = 0.2 pounds\n"
     ]
    }
   ],
   "source": [
    "weight= int(input(\"enter weight in kilograms: \"))\n",
    "pounds= round(weight/2.2)*0.1\n",
    "\n",
    "print(str(weight), \"kg =\", (str(pounds)), \"pounds\")\n"
   ]
  },
  {
   "cell_type": "markdown",
   "id": "8db8849a",
   "metadata": {},
   "source": [
    "#### question 12\n"
   ]
  },
  {
   "cell_type": "code",
   "execution_count": null,
   "id": "8d9fe472",
   "metadata": {},
   "outputs": [],
   "source": [
    "##### formula for factorial = n! = n × (n - 1)!"
   ]
  },
  {
   "cell_type": "code",
   "execution_count": 62,
   "id": "48426103",
   "metadata": {},
   "outputs": [
    {
     "name": "stdout",
     "output_type": "stream",
     "text": [
      "enter a number: 5\n",
      "factorial of  5 is =  120\n"
     ]
    }
   ],
   "source": [
    "n= int(input(\"enter a number to get the factorial: \"))\n",
    "factorial = 1\n",
    "\n",
    "if n < 0:\n",
    "    print(\"factorial value cant be calculated for negative values\")\n",
    "elif n == 0:\n",
    "    print(\"factorial value for zero is 1\")\n",
    "else:\n",
    "    for i in range(1, n + 1):\n",
    "        factorial= i*factorial\n",
    "    print(\"factorial of \",n , \"is = \", factorial)\n",
    "        "
   ]
  },
  {
   "cell_type": "markdown",
   "id": "3415cdd8",
   "metadata": {},
   "source": [
    "#### question 14"
   ]
  },
  {
   "cell_type": "code",
   "execution_count": 66,
   "id": "38f0a34c",
   "metadata": {},
   "outputs": [
    {
     "name": "stdout",
     "output_type": "stream",
     "text": [
      "enter an number: 3\n",
      "sine = 0.052335956242943835\n"
     ]
    }
   ],
   "source": [
    "angle= int(input(\"enter an angle: \"))\n",
    "import math\n",
    "sine = (math.sin(math.radians(angle)))\n",
    "print (\"sine =\", sine)"
   ]
  },
  {
   "cell_type": "code",
   "execution_count": 67,
   "id": "09c98122",
   "metadata": {},
   "outputs": [
    {
     "data": {
      "text/plain": [
       "2"
      ]
     },
     "execution_count": 67,
     "metadata": {},
     "output_type": "execute_result"
    }
   ],
   "source": [
    "2%10"
   ]
  },
  {
   "cell_type": "markdown",
   "id": "edd0921a",
   "metadata": {},
   "source": [
    "# assignment 3"
   ]
  },
  {
   "cell_type": "markdown",
   "id": "c059ac45",
   "metadata": {},
   "source": [
    "##### question 1"
   ]
  },
  {
   "cell_type": "code",
   "execution_count": 68,
   "id": "63866b95",
   "metadata": {},
   "outputs": [
    {
     "name": "stdout",
     "output_type": "stream",
     "text": [
      "input lenght in cm5\n",
      "1.968503937007874\n"
     ]
    }
   ],
   "source": [
    "lenght = int(input(\"input lenght in cm\"))\n",
    "if lenght < 0:\n",
    "    print (\"entry is invalid\")\n",
    "elif lenght >= 0:\n",
    "    inches = lenght/2.54\n",
    "    print (inches)"
   ]
  },
  {
   "cell_type": "markdown",
   "id": "83228001",
   "metadata": {},
   "source": [
    "#### question 2"
   ]
  },
  {
   "cell_type": "code",
   "execution_count": 74,
   "id": "241c9c8a",
   "metadata": {},
   "outputs": [
    {
     "name": "stdout",
     "output_type": "stream",
     "text": [
      "input temperature: 2\n",
      "enter a unit either celsuis or fahrenheit: g\n",
      "invalid unit\n"
     ]
    }
   ],
   "source": [
    "temp = int(input(\"input temperature: \"))\n",
    "unit = input(\"enter a unit either celsuis or fahrenheit: \").lower()\n",
    "\n",
    "if unit == \"c\":\n",
    "    F = ((9/5) *(temp +32))\n",
    "    print(F)\n",
    "elif unit == \"f\":\n",
    "    C= ((5/9) * (temp - 32))\n",
    "    print(C)\n",
    "else:\n",
    "    print (\"invalid unit\")"
   ]
  },
  {
   "cell_type": "markdown",
   "id": "1f11bdfa",
   "metadata": {},
   "source": [
    "#### question 3"
   ]
  },
  {
   "cell_type": "code",
   "execution_count": 75,
   "id": "71decc6f",
   "metadata": {},
   "outputs": [
    {
     "name": "stdout",
     "output_type": "stream",
     "text": [
      "enter a temperature in celsuis: 100\n",
      "temperature is at boiling point\n"
     ]
    }
   ],
   "source": [
    "temp_in_celcuis = int(input(\"enter a temperature in celsuis: \"))\n",
    "\n",
    "if temp_in_celcuis < -273.15:\n",
    "    print(\"the temperature is invalid,because it is below absolute zero\")\n",
    "elif temp_in_celcuis >= -273.15 and temp_in_celcuis <0:\n",
    "    print(\"the temperature is below freezing\")\n",
    "elif temp_in_celcuis == 0 :\n",
    "    print(\"the temperature is at a freezing\")\n",
    "elif temp_in_celcuis > 0 and temp_in_celcuis < 100:\n",
    "    print (\"temperature is normal range\")\n",
    "elif temp_in_celcuis == 100:\n",
    "    print (\"temperature is at boiling point\")\n",
    "elif temp_in_celcuis > 100:\n",
    "    print (\"temperature is above boiling point\")\n",
    "else :\n",
    "    print (\"you didnt enter a valid value\")\n",
    "   "
   ]
  },
  {
   "cell_type": "markdown",
   "id": "f19106a0",
   "metadata": {},
   "source": [
    "#### question 4"
   ]
  },
  {
   "cell_type": "code",
   "execution_count": 19,
   "id": "fbce0c56",
   "metadata": {},
   "outputs": [
    {
     "name": "stdout",
     "output_type": "stream",
     "text": [
      "how many inputs have you taken?: 2\n",
      "you are a freshman\n"
     ]
    }
   ],
   "source": [
    "credits = int(input(\"how many inputs have you taken?: \"))\n",
    "\n",
    "if credits <= 23:\n",
    "    print (\"you are a freshman\")\n",
    "elif credits >= 24 and credits <= 53:\n",
    "    print (\"you are a sophomore\")\n",
    "elif credits >= 54 and credits <= 83:\n",
    "    print (\"you are a junior\")\n",
    "elif credits >= 84:\n",
    "    print (\"you are a senior\")\n",
    "    \n",
    "else :\n",
    "    print(\"you are not a student\")"
   ]
  },
  {
   "cell_type": "code",
   "execution_count": null,
   "id": "6187ad70",
   "metadata": {},
   "outputs": [],
   "source": []
  },
  {
   "cell_type": "markdown",
   "id": "b2322e8f",
   "metadata": {},
   "source": [
    "## Assignment 4 "
   ]
  },
  {
   "cell_type": "markdown",
   "id": "a2afbd41",
   "metadata": {},
   "source": [
    "#### question 10"
   ]
  },
  {
   "cell_type": "code",
   "execution_count": 31,
   "id": "f16e09ea",
   "metadata": {},
   "outputs": [
    {
     "name": "stdout",
     "output_type": "stream",
     "text": [
      "enter 10  test scores: 1\n",
      "enter 10  test scores: 34\n",
      "enter 10  test scores: 56\n",
      "enter 10  test scores: 86\n",
      "enter 10  test scores: 94\n",
      "enter 10  test scores: 10\n",
      "enter 10  test scores: 34\n",
      "enter 10  test scores: 0\n",
      "enter 10  test scores: 34\n",
      "enter 10  test scores: 90\n",
      "highest score :  94\n",
      "lowest score :  0\n",
      "average score :  43.9\n"
     ]
    }
   ],
   "source": [
    "scores = [int(input(\"enter 10  test scores: \"))for i in range(10)]\n",
    "\n",
    "### max score:\n",
    "max_ind = scores[1]\n",
    "for score in range(0, len(scores)):\n",
    "    if scores[score] > max_ind:\n",
    "        max_ind = scores[score]\n",
    "print (\"highest score : \", max_ind)\n",
    "\n",
    "### min score:\n",
    "min_ind = scores[1]\n",
    "for score in range(0,len(scores)):\n",
    "    if scores[score] < min_ind:\n",
    "        min_ind = scores[score]\n",
    "print(\"lowest score : \", min_ind)\n",
    "\n",
    "### average score:\n",
    "sum_val = 0\n",
    "for score in scores:\n",
    "    sum_val = sum_val + score\n",
    "average= sum_val/len(scores)\n",
    "print(\"average score : \", average)\n",
    "\n",
    "\n",
    "##\n"
   ]
  },
  {
   "cell_type": "markdown",
   "id": "86cc3275",
   "metadata": {},
   "source": [
    "#### question 8"
   ]
  },
  {
   "cell_type": "code",
   "execution_count": 32,
   "id": "45f090ce",
   "metadata": {},
   "outputs": [
    {
     "name": "stdout",
     "output_type": "stream",
     "text": [
      "enter value of x: 3\n",
      "enter value of y: 4\n",
      "enter value of z: 8\n",
      "4\n",
      "8\n",
      "3\n"
     ]
    }
   ],
   "source": [
    "x = int(input(\"enter value of x: \"))\n",
    "y = int(input(\"enter value of y: \"))\n",
    "z = int(input(\"enter value of z: \"))\n",
    "\n",
    "x_placeholder = x\n",
    "x = y\n",
    "y = z\n",
    "z = x_placeholder\n",
    "\n",
    "print(x)\n",
    "print(y)\n",
    "print(z)"
   ]
  },
  {
   "cell_type": "markdown",
   "id": "46db8018",
   "metadata": {},
   "source": [
    "#### question 5"
   ]
  },
  {
   "cell_type": "code",
   "execution_count": 36,
   "id": "60728736",
   "metadata": {},
   "outputs": [
    {
     "name": "stdout",
     "output_type": "stream",
     "text": [
      "enter a value: 6\n",
      "[1, 2, 3, 6]\n",
      "The sum of divisors of 6 is 12\n"
     ]
    }
   ],
   "source": [
    "user_value = int(input(\"enter a value: \"))\n",
    "sum_of_divisor = 0\n",
    "sum_list = []\n",
    "for i in range(1, user_value +1):\n",
    "    if user_value % i == 0:\n",
    "        sum_list.append(i)\n",
    "        sum_of_divisor = sum_of_divisor + i\n",
    "print(sum_list)\n",
    "print(f\"The sum of divisors of {user_value} is {sum_of_divisor}\")"
   ]
  },
  {
   "cell_type": "markdown",
   "id": "bdda81e3",
   "metadata": {},
   "source": [
    "####  question 7"
   ]
  },
  {
   "cell_type": "code",
   "execution_count": 40,
   "id": "0040c9f8",
   "metadata": {},
   "outputs": [
    {
     "name": "stdout",
     "output_type": "stream",
     "text": [
      "enter a value: 3\n",
      "[1, 3]\n",
      "3 is squarefree\n"
     ]
    }
   ],
   "source": [
    "user_value = int(input(\"enter a value: \"))\n",
    "divisors = []\n",
    "perfect = []\n",
    "for i in range(1, user_value +1):\n",
    "    if user_value % i == 0:\n",
    "        divisors.append(i)\n",
    "print(divisors)\n",
    "for k in divisors:\n",
    "    num = k\n",
    "    j = 1\n",
    "    while j < num:\n",
    "        if num/j == j:\n",
    "            perfect.append(num)\n",
    "            \n",
    "        j = j + 1\n",
    "\n",
    "if len(perfect) == 0:\n",
    "    print(user_value, \"is squarefree\")\n",
    "else:\n",
    "    print(user_value,\" is not squarefree\")"
   ]
  },
  {
   "cell_type": "code",
   "execution_count": null,
   "id": "7b220370",
   "metadata": {},
   "outputs": [],
   "source": []
  }
 ],
 "metadata": {
  "kernelspec": {
   "display_name": "Python 3 (ipykernel)",
   "language": "python",
   "name": "python3"
  },
  "language_info": {
   "codemirror_mode": {
    "name": "ipython",
    "version": 3
   },
   "file_extension": ".py",
   "mimetype": "text/x-python",
   "name": "python",
   "nbconvert_exporter": "python",
   "pygments_lexer": "ipython3",
   "version": "3.9.12"
  }
 },
 "nbformat": 4,
 "nbformat_minor": 5
}
